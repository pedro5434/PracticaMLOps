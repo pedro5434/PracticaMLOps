{
 "cells": [
  {
   "cell_type": "code",
   "execution_count": 24,
   "metadata": {},
   "outputs": [],
   "source": [
    "import mlflow"
   ]
  },
  {
   "cell_type": "code",
   "execution_count": 25,
   "metadata": {},
   "outputs": [],
   "source": [
    "#conexion hacia el server de mlflow\n",
    "mlflow.set_tracking_uri(\"http://127.0.0.1:5000/\")"
   ]
  },
  {
   "cell_type": "code",
   "execution_count": 26,
   "metadata": {},
   "outputs": [],
   "source": [
    "import pandas as pd\n",
    "data=pd.read_csv('../Data/train.csv')"
   ]
  },
  {
   "cell_type": "code",
   "execution_count": 27,
   "metadata": {},
   "outputs": [],
   "source": [
    "# Creacion del cliente\n",
    "client = mlflow.tracking.MlflowClient()"
   ]
  },
  {
   "cell_type": "code",
   "execution_count": 28,
   "metadata": {},
   "outputs": [],
   "source": [
    "experiments=client.search_experiments()"
   ]
  },
  {
   "cell_type": "code",
   "execution_count": 29,
   "metadata": {},
   "outputs": [
    {
     "data": {
      "text/plain": [
       "[<Experiment: artifact_location='mlflow-artifacts:/874987130233476581', creation_time=1729458112266, experiment_id='874987130233476581', last_update_time=1729458112266, lifecycle_stage='active', name='experiment_final', tags={}>,\n",
       " <Experiment: artifact_location='mlflow-artifacts:/728848010930649610', creation_time=1729454568995, experiment_id='728848010930649610', last_update_time=1729454568995, lifecycle_stage='active', name='rent4', tags={}>,\n",
       " <Experiment: artifact_location='mlflow-artifacts:/400600718257267342', creation_time=1729126467671, experiment_id='400600718257267342', last_update_time=1729126467671, lifecycle_stage='active', name='rent3', tags={}>,\n",
       " <Experiment: artifact_location='mlflow-artifacts:/705688815352764605', creation_time=1729039652228, experiment_id='705688815352764605', last_update_time=1729039652228, lifecycle_stage='active', name='rent2', tags={}>,\n",
       " <Experiment: artifact_location='mlflow-artifacts:/459878205301148418', creation_time=1729007424862, experiment_id='459878205301148418', last_update_time=1729007424862, lifecycle_stage='active', name='rent', tags={}>,\n",
       " <Experiment: artifact_location='mlflow-artifacts:/0', creation_time=1729005547640, experiment_id='0', last_update_time=1729005547640, lifecycle_stage='active', name='Default', tags={'mlflow.sharedViewState.f9cbb98e7827c2a2615434cfc5dbc9f9c23b9a6268feed2a3bef82206d68bb20': 'deflate;eJxdUtFOAjEQ/BXTZ2Lw9d4OBCWCMQcSE2KgtAu3Sa8l3S2ChH93D05BHnd2ZrY724Mi0NGUfXQMUWVKtVSIFmJn/wJ7qTVzxGVioHtiHXnOWMGFlJNR2Uo7gpY69Sd1O1P5cCgkhyswe+Pgzz43jNtabzVrAqbfzuyzpapgwU0hEgZ/UTh3VyRPoiFwYBhsN7hUCZLNrp+3GIcUDSyEeI2OalO6RR/P4xdKxkZx7+022luwKjscz8gbel/Xs4bxjNaCv61rd3lkf1CMJ/OH9rx4fx3LqC3C10jvsMLv2qMJSGRDJP51alCk3BiJU5Yu4BTrlSQRPMWQNmCn2iWgge+WkrLszjFJv0QLvWrD+//wutZ05H4+OdeUNzvqxKGAVQQqe14v3dXQtQtL7Ybo4eTaDX6Fa1GpXb5DOv8LYticLuxhXIXApQeS8e3LlT5q8ggkc3OWqOPxB/TD3fI='}>]"
      ]
     },
     "execution_count": 29,
     "metadata": {},
     "output_type": "execute_result"
    }
   ],
   "source": [
    "experiments"
   ]
  },
  {
   "cell_type": "code",
   "execution_count": 30,
   "metadata": {},
   "outputs": [],
   "source": [
    "experiment=list(filter(lambda k:k.name=='experiment_final',experiments))[0]"
   ]
  },
  {
   "cell_type": "code",
   "execution_count": 31,
   "metadata": {},
   "outputs": [
    {
     "data": {
      "text/plain": [
       "<Experiment: artifact_location='mlflow-artifacts:/874987130233476581', creation_time=1729458112266, experiment_id='874987130233476581', last_update_time=1729458112266, lifecycle_stage='active', name='experiment_final', tags={}>"
      ]
     },
     "execution_count": 31,
     "metadata": {},
     "output_type": "execute_result"
    }
   ],
   "source": [
    "experiment"
   ]
  },
  {
   "cell_type": "code",
   "execution_count": 32,
   "metadata": {},
   "outputs": [],
   "source": [
    "experiment_id =experiment.experiment_id"
   ]
  },
  {
   "cell_type": "code",
   "execution_count": 33,
   "metadata": {},
   "outputs": [
    {
     "data": {
      "text/plain": [
       "'874987130233476581'"
      ]
     },
     "execution_count": 33,
     "metadata": {},
     "output_type": "execute_result"
    }
   ],
   "source": [
    "experiment_id"
   ]
  },
  {
   "cell_type": "code",
   "execution_count": 35,
   "metadata": {},
   "outputs": [],
   "source": [
    "runs=client.search_runs(experiment_ids=experiment_id,\n",
    "                        filter_string=\"\",\n",
    "                        run_view_type=mlflow.entities.ViewType.ACTIVE_ONLY,\n",
    "                        max_results=3,\n",
    "                        order_by=[\"metrics.TT DESC\"])# ordenar por R2 desc porque va de 0 a 1"
   ]
  },
  {
   "cell_type": "code",
   "execution_count": 36,
   "metadata": {},
   "outputs": [
    {
     "data": {
      "text/plain": [
       "[<Run: data=<RunData: metrics={'MAE': 0.1993,\n",
       "  'MAPE': 0.4552,\n",
       "  'MSE': 0.1034,\n",
       "  'R2': 0.3783,\n",
       "  'RMSE': 0.3215,\n",
       "  'RMSLE': 0.2271,\n",
       "  'TT': 38.36}, params={'bootstrap': 'True',\n",
       "  'ccp_alpha': '0.0',\n",
       "  'criterion': 'squared_error',\n",
       "  'max_depth': 'None',\n",
       "  'max_features': '1.0',\n",
       "  'max_leaf_nodes': 'None',\n",
       "  'max_samples': 'None',\n",
       "  'min_impurity_decrease': '0.0',\n",
       "  'min_samples_leaf': '1',\n",
       "  'min_samples_split': '2',\n",
       "  'min_weight_fraction_leaf': '0.0',\n",
       "  'monotonic_cst': 'None',\n",
       "  'n_estimators': '100',\n",
       "  'n_jobs': '-1',\n",
       "  'oob_score': 'False',\n",
       "  'random_state': '123',\n",
       "  'verbose': '0',\n",
       "  'warm_start': 'False'}, tags={'Run ID': '4c6e264e1efb4b24852beefd0ca8722b',\n",
       "  'Run Time': '351.07',\n",
       "  'Source': 'create_model',\n",
       "  'URI': 'cbd59555',\n",
       "  'USI': '86c6',\n",
       "  'mlflow.log-model.history': '[{\"run_id\": \"4c6e264e1efb4b24852beefd0ca8722b\", '\n",
       "                              '\"artifact_path\": \"model\", \"utc_time_created\": '\n",
       "                              '\"2024-10-20 23:44:42.648678\", \"model_uuid\": '\n",
       "                              '\"40c0a04464a6499eadc059ab4343ca3b\", \"flavors\": '\n",
       "                              '{\"python_function\": {\"model_path\": \"model.pkl\", '\n",
       "                              '\"predict_fn\": \"predict\", \"loader_module\": '\n",
       "                              '\"mlflow.sklearn\", \"python_version\": \"3.11.8\", '\n",
       "                              '\"env\": {\"conda\": \"conda.yaml\", \"virtualenv\": '\n",
       "                              '\"python_env.yaml\"}}, \"sklearn\": '\n",
       "                              '{\"pickled_model\": \"model.pkl\", '\n",
       "                              '\"sklearn_version\": \"1.4.2\", '\n",
       "                              '\"serialization_format\": \"cloudpickle\", \"code\": '\n",
       "                              'null}}}]',\n",
       "  'mlflow.parentRunId': 'b9ff06e63a4c45e781424a289a0fd0d6',\n",
       "  'mlflow.runName': 'Random Forest Regressor',\n",
       "  'mlflow.source.name': 'C:\\\\Users\\\\PEDRO '\n",
       "                        'VARGAS\\\\AppData\\\\Roaming\\\\Python\\\\Python311\\\\site-packages\\\\ipykernel_launcher.py',\n",
       "  'mlflow.source.type': 'LOCAL',\n",
       "  'mlflow.user': 'PEDRO VARGAS'}>, info=<RunInfo: artifact_uri='mlflow-artifacts:/874987130233476581/4c6e264e1efb4b24852beefd0ca8722b/artifacts', end_time=1729467884912, experiment_id='874987130233476581', lifecycle_stage='active', run_id='4c6e264e1efb4b24852beefd0ca8722b', run_name='Random Forest Regressor', run_uuid='4c6e264e1efb4b24852beefd0ca8722b', start_time=1729467880715, status='FINISHED', user_id='PEDRO VARGAS'>, inputs=<RunInputs: dataset_inputs=[]>>,\n",
       " <Run: data=<RunData: metrics={'TT': 35.13}, params={'bootstrap': 'True',\n",
       "  'ccp_alpha': '0.0',\n",
       "  'criterion': 'squared_error',\n",
       "  'max_depth': '10',\n",
       "  'max_features': '1.0',\n",
       "  'max_leaf_nodes': 'None',\n",
       "  'max_samples': 'None',\n",
       "  'min_impurity_decrease': '0.0',\n",
       "  'min_samples_leaf': '1',\n",
       "  'min_samples_split': '2',\n",
       "  'min_weight_fraction_leaf': '0.0',\n",
       "  'monotonic_cst': 'None',\n",
       "  'n_estimators': '100',\n",
       "  'n_jobs': '-1',\n",
       "  'oob_score': 'False',\n",
       "  'random_state': '123',\n",
       "  'verbose': '0',\n",
       "  'warm_start': 'False'}, tags={'Run ID': 'd32a5d9adb7b4f25ada2f3f0a346fa84',\n",
       "  'Run Time': '35.48',\n",
       "  'Source': 'finalize_model',\n",
       "  'URI': 'b39617c6',\n",
       "  'USI': '86c6',\n",
       "  'mlflow.log-model.history': '[{\"run_id\": \"d32a5d9adb7b4f25ada2f3f0a346fa84\", '\n",
       "                              '\"artifact_path\": \"model\", \"utc_time_created\": '\n",
       "                              '\"2024-10-21 00:04:18.074779\", \"model_uuid\": '\n",
       "                              '\"670c3a99a9d842c795b7578ad51e33fb\", \"flavors\": '\n",
       "                              '{\"python_function\": {\"model_path\": \"model.pkl\", '\n",
       "                              '\"predict_fn\": \"predict\", \"loader_module\": '\n",
       "                              '\"mlflow.sklearn\", \"python_version\": \"3.11.8\", '\n",
       "                              '\"env\": {\"conda\": \"conda.yaml\", \"virtualenv\": '\n",
       "                              '\"python_env.yaml\"}}, \"sklearn\": '\n",
       "                              '{\"pickled_model\": \"model.pkl\", '\n",
       "                              '\"sklearn_version\": \"1.4.2\", '\n",
       "                              '\"serialization_format\": \"cloudpickle\", \"code\": '\n",
       "                              'null}}}]',\n",
       "  'mlflow.parentRunId': 'b9ff06e63a4c45e781424a289a0fd0d6',\n",
       "  'mlflow.runName': 'Random Forest Regressor',\n",
       "  'mlflow.source.name': 'C:\\\\Users\\\\PEDRO '\n",
       "                        'VARGAS\\\\AppData\\\\Roaming\\\\Python\\\\Python311\\\\site-packages\\\\ipykernel_launcher.py',\n",
       "  'mlflow.source.type': 'LOCAL',\n",
       "  'mlflow.user': 'PEDRO VARGAS'}>, info=<RunInfo: artifact_uri='mlflow-artifacts:/874987130233476581/d32a5d9adb7b4f25ada2f3f0a346fa84/artifacts', end_time=1729469058438, experiment_id='874987130233476581', lifecycle_stage='active', run_id='d32a5d9adb7b4f25ada2f3f0a346fa84', run_name='Random Forest Regressor', run_uuid='d32a5d9adb7b4f25ada2f3f0a346fa84', start_time=1729469057783, status='FINISHED', user_id='PEDRO VARGAS'>, inputs=<RunInputs: dataset_inputs=[]>>,\n",
       " <Run: data=<RunData: metrics={'MAE': 0.1993,\n",
       "  'MAPE': 0.4552,\n",
       "  'MSE': 0.1034,\n",
       "  'R2': 0.3783,\n",
       "  'RMSE': 0.3215,\n",
       "  'RMSLE': 0.2271,\n",
       "  'TT': 31.405}, params={'bootstrap': 'True',\n",
       "  'ccp_alpha': '0.0',\n",
       "  'criterion': 'squared_error',\n",
       "  'max_depth': 'None',\n",
       "  'max_features': '1.0',\n",
       "  'max_leaf_nodes': 'None',\n",
       "  'max_samples': 'None',\n",
       "  'min_impurity_decrease': '0.0',\n",
       "  'min_samples_leaf': '1',\n",
       "  'min_samples_split': '2',\n",
       "  'min_weight_fraction_leaf': '0.0',\n",
       "  'monotonic_cst': 'None',\n",
       "  'n_estimators': '100',\n",
       "  'n_jobs': '-1',\n",
       "  'oob_score': 'False',\n",
       "  'random_state': '123',\n",
       "  'verbose': '0',\n",
       "  'warm_start': 'False'}, tags={'Run ID': 'dad4aa888da64bf19b1e4dcf2cd66001',\n",
       "  'Run Time': '314.39',\n",
       "  'Source': 'compare_models',\n",
       "  'URI': '08164332',\n",
       "  'USI': '86c6',\n",
       "  'mlflow.log-model.history': '[{\"run_id\": \"dad4aa888da64bf19b1e4dcf2cd66001\", '\n",
       "                              '\"artifact_path\": \"model\", \"utc_time_created\": '\n",
       "                              '\"2024-10-20 23:38:14.878105\", \"model_uuid\": '\n",
       "                              '\"e628eba784be4f7f893495af41f7fbb5\", \"flavors\": '\n",
       "                              '{\"python_function\": {\"model_path\": \"model.pkl\", '\n",
       "                              '\"predict_fn\": \"predict\", \"loader_module\": '\n",
       "                              '\"mlflow.sklearn\", \"python_version\": \"3.11.8\", '\n",
       "                              '\"env\": {\"conda\": \"conda.yaml\", \"virtualenv\": '\n",
       "                              '\"python_env.yaml\"}}, \"sklearn\": '\n",
       "                              '{\"pickled_model\": \"model.pkl\", '\n",
       "                              '\"sklearn_version\": \"1.4.2\", '\n",
       "                              '\"serialization_format\": \"cloudpickle\", \"code\": '\n",
       "                              'null}}}]',\n",
       "  'mlflow.parentRunId': 'b9ff06e63a4c45e781424a289a0fd0d6',\n",
       "  'mlflow.runName': 'Random Forest Regressor',\n",
       "  'mlflow.source.name': 'C:\\\\Users\\\\PEDRO '\n",
       "                        'VARGAS\\\\AppData\\\\Roaming\\\\Python\\\\Python311\\\\site-packages\\\\ipykernel_launcher.py',\n",
       "  'mlflow.source.type': 'LOCAL',\n",
       "  'mlflow.user': 'PEDRO VARGAS'}>, info=<RunInfo: artifact_uri='mlflow-artifacts:/874987130233476581/dad4aa888da64bf19b1e4dcf2cd66001/artifacts', end_time=1729467495069, experiment_id='874987130233476581', lifecycle_stage='active', run_id='dad4aa888da64bf19b1e4dcf2cd66001', run_name='Random Forest Regressor', run_uuid='dad4aa888da64bf19b1e4dcf2cd66001', start_time=1729467494420, status='FINISHED', user_id='PEDRO VARGAS'>, inputs=<RunInputs: dataset_inputs=[]>>]"
      ]
     },
     "execution_count": 36,
     "metadata": {},
     "output_type": "execute_result"
    }
   ],
   "source": [
    "runs"
   ]
  },
  {
   "cell_type": "code",
   "execution_count": 37,
   "metadata": {},
   "outputs": [],
   "source": [
    "runs=runs[0]"
   ]
  },
  {
   "cell_type": "code",
   "execution_count": 38,
   "metadata": {},
   "outputs": [
    {
     "data": {
      "text/plain": [
       "<Run: data=<RunData: metrics={'MAE': 0.1993,\n",
       " 'MAPE': 0.4552,\n",
       " 'MSE': 0.1034,\n",
       " 'R2': 0.3783,\n",
       " 'RMSE': 0.3215,\n",
       " 'RMSLE': 0.2271,\n",
       " 'TT': 38.36}, params={'bootstrap': 'True',\n",
       " 'ccp_alpha': '0.0',\n",
       " 'criterion': 'squared_error',\n",
       " 'max_depth': 'None',\n",
       " 'max_features': '1.0',\n",
       " 'max_leaf_nodes': 'None',\n",
       " 'max_samples': 'None',\n",
       " 'min_impurity_decrease': '0.0',\n",
       " 'min_samples_leaf': '1',\n",
       " 'min_samples_split': '2',\n",
       " 'min_weight_fraction_leaf': '0.0',\n",
       " 'monotonic_cst': 'None',\n",
       " 'n_estimators': '100',\n",
       " 'n_jobs': '-1',\n",
       " 'oob_score': 'False',\n",
       " 'random_state': '123',\n",
       " 'verbose': '0',\n",
       " 'warm_start': 'False'}, tags={'Run ID': '4c6e264e1efb4b24852beefd0ca8722b',\n",
       " 'Run Time': '351.07',\n",
       " 'Source': 'create_model',\n",
       " 'URI': 'cbd59555',\n",
       " 'USI': '86c6',\n",
       " 'mlflow.log-model.history': '[{\"run_id\": \"4c6e264e1efb4b24852beefd0ca8722b\", '\n",
       "                             '\"artifact_path\": \"model\", \"utc_time_created\": '\n",
       "                             '\"2024-10-20 23:44:42.648678\", \"model_uuid\": '\n",
       "                             '\"40c0a04464a6499eadc059ab4343ca3b\", \"flavors\": '\n",
       "                             '{\"python_function\": {\"model_path\": \"model.pkl\", '\n",
       "                             '\"predict_fn\": \"predict\", \"loader_module\": '\n",
       "                             '\"mlflow.sklearn\", \"python_version\": \"3.11.8\", '\n",
       "                             '\"env\": {\"conda\": \"conda.yaml\", \"virtualenv\": '\n",
       "                             '\"python_env.yaml\"}}, \"sklearn\": '\n",
       "                             '{\"pickled_model\": \"model.pkl\", '\n",
       "                             '\"sklearn_version\": \"1.4.2\", '\n",
       "                             '\"serialization_format\": \"cloudpickle\", \"code\": '\n",
       "                             'null}}}]',\n",
       " 'mlflow.parentRunId': 'b9ff06e63a4c45e781424a289a0fd0d6',\n",
       " 'mlflow.runName': 'Random Forest Regressor',\n",
       " 'mlflow.source.name': 'C:\\\\Users\\\\PEDRO '\n",
       "                       'VARGAS\\\\AppData\\\\Roaming\\\\Python\\\\Python311\\\\site-packages\\\\ipykernel_launcher.py',\n",
       " 'mlflow.source.type': 'LOCAL',\n",
       " 'mlflow.user': 'PEDRO VARGAS'}>, info=<RunInfo: artifact_uri='mlflow-artifacts:/874987130233476581/4c6e264e1efb4b24852beefd0ca8722b/artifacts', end_time=1729467884912, experiment_id='874987130233476581', lifecycle_stage='active', run_id='4c6e264e1efb4b24852beefd0ca8722b', run_name='Random Forest Regressor', run_uuid='4c6e264e1efb4b24852beefd0ca8722b', start_time=1729467880715, status='FINISHED', user_id='PEDRO VARGAS'>, inputs=<RunInputs: dataset_inputs=[]>>"
      ]
     },
     "execution_count": 38,
     "metadata": {},
     "output_type": "execute_result"
    }
   ],
   "source": [
    "runs"
   ]
  },
  {
   "cell_type": "code",
   "execution_count": 39,
   "metadata": {},
   "outputs": [],
   "source": [
    "run_id=runs.data.tags['Run ID']"
   ]
  },
  {
   "cell_type": "code",
   "execution_count": 40,
   "metadata": {},
   "outputs": [
    {
     "data": {
      "text/plain": [
       "'4c6e264e1efb4b24852beefd0ca8722b'"
      ]
     },
     "execution_count": 40,
     "metadata": {},
     "output_type": "execute_result"
    }
   ],
   "source": [
    "#como tenemos el id  podemos utilizarlo para obtener los artefactos\n",
    "run_id"
   ]
  },
  {
   "cell_type": "code",
   "execution_count": 42,
   "metadata": {},
   "outputs": [
    {
     "data": {
      "application/vnd.jupyter.widget-view+json": {
       "model_id": "47cf93799efd4d0599ac149044aaafa7",
       "version_major": 2,
       "version_minor": 0
      },
      "text/plain": [
       "Downloading artifacts:   0%|          | 0/5 [00:00<?, ?it/s]"
      ]
     },
     "metadata": {},
     "output_type": "display_data"
    },
    {
     "data": {
      "text/plain": [
       "array([0.  , 0.01, 0.08, ..., 0.12, 0.01, 0.12])"
      ]
     },
     "execution_count": 42,
     "metadata": {},
     "output_type": "execute_result"
    }
   ],
   "source": [
    "import mlflow\n",
    "logged_model = f'runs:/{run_id}/model'\n",
    "\n",
    "# Load model as a PyFuncModel.\n",
    "loaded_model = mlflow.pyfunc.load_model(logged_model)\n",
    "\n",
    "# Predict on a Pandas DataFrame.\n",
    "import pandas as pd\n",
    "exclude_variables=['id', 'CustomerId']\n",
    "loaded_model.predict(data.drop(columns=exclude_variables+['Exited']))"
   ]
  },
  {
   "cell_type": "code",
   "execution_count": 45,
   "metadata": {},
   "outputs": [
    {
     "name": "stderr",
     "output_type": "stream",
     "text": [
      "Registered model 'experiment_final_model' already exists. Creating a new version of this model...\n",
      "2024/10/20 19:49:27 INFO mlflow.store.model_registry.abstract_store: Waiting up to 300 seconds for model version to finish creation. Model name: experiment_final_model, version 2\n",
      "Created version '2' of model 'experiment_final_model'.\n"
     ]
    },
    {
     "data": {
      "text/plain": [
       "<ModelVersion: aliases=[], creation_timestamp=1729471767579, current_stage='None', description='', last_updated_timestamp=1729471767579, name='experiment_final_model', run_id='4c6e264e1efb4b24852beefd0ca8722b', run_link='', source='mlflow-artifacts:/874987130233476581/4c6e264e1efb4b24852beefd0ca8722b/artifacts/model', status='READY', status_message='', tags={}, user_id='', version='2'>"
      ]
     },
     "execution_count": 45,
     "metadata": {},
     "output_type": "execute_result"
    }
   ],
   "source": [
    "#utilizar en el entorno de produccion\n",
    "#registrar un modelo el mejor pase por el proceso de validacion\n",
    "# el modelo se registra en el servidor de mlflow\n",
    "# se registra en funcion de run_id y poder colocar un nombre\n",
    "\n",
    "mlflow.register_model(f\"runs:/{run_id}/model\", \"experiment_final_model\")"
   ]
  },
  {
   "cell_type": "code",
   "execution_count": 47,
   "metadata": {},
   "outputs": [
    {
     "data": {
      "text/plain": [
       "<ModelVersion: aliases=[], creation_timestamp=1729469289934, current_stage='Production', description='', last_updated_timestamp=1729471816934, name='experiment_final_model', run_id='4c6e264e1efb4b24852beefd0ca8722b', run_link='', source='mlflow-artifacts:/874987130233476581/4c6e264e1efb4b24852beefd0ca8722b/artifacts/model', status='READY', status_message='', tags={}, user_id='', version='1'>"
      ]
     },
     "execution_count": 47,
     "metadata": {},
     "output_type": "execute_result"
    }
   ],
   "source": [
    "client.transition_model_version_stage(name='experiment_final_model',version=1,stage='Production')"
   ]
  },
  {
   "cell_type": "code",
   "execution_count": 48,
   "metadata": {},
   "outputs": [
    {
     "data": {
      "application/vnd.jupyter.widget-view+json": {
       "model_id": "c6f5b5322fac47c9bdb55b4b9d54a956",
       "version_major": 2,
       "version_minor": 0
      },
      "text/plain": [
       "Downloading artifacts:   0%|          | 0/5 [00:00<?, ?it/s]"
      ]
     },
     "metadata": {},
     "output_type": "display_data"
    },
    {
     "data": {
      "text/plain": [
       "array([0.  , 0.01, 0.08, ..., 0.12, 0.01, 0.12])"
      ]
     },
     "execution_count": 48,
     "metadata": {},
     "output_type": "execute_result"
    }
   ],
   "source": [
    "#la carga del modelo en produccion es desde el estado de produccion\n",
    "import mlflow\n",
    "logged_model = f'models:/experiment_final_model/Production'\n",
    "\n",
    "# Load model as a PyFuncModel.\n",
    "loaded_model = mlflow.pyfunc.load_model(logged_model)\n",
    "\n",
    "# Predict on a Pandas DataFrame.\n",
    "import pandas as pd\n",
    "exclude_variables=['id', 'CustomerId']\n",
    "loaded_model.predict(data.drop(columns=exclude_variables+['Exited']))"
   ]
  }
 ],
 "metadata": {
  "kernelspec": {
   "display_name": "Python 3",
   "language": "python",
   "name": "python3"
  },
  "language_info": {
   "codemirror_mode": {
    "name": "ipython",
    "version": 3
   },
   "file_extension": ".py",
   "mimetype": "text/x-python",
   "name": "python",
   "nbconvert_exporter": "python",
   "pygments_lexer": "ipython3",
   "version": "3.11.8"
  }
 },
 "nbformat": 4,
 "nbformat_minor": 2
}
